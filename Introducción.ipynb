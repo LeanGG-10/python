{
 "cells": [
  {
   "cell_type": "markdown",
   "id": "3feb77fb",
   "metadata": {},
   "source": [
    "# h1\n",
    "# h2\n",
    "# h3\n",
    "\n",
    "- item punto\n",
    "1. item numeral"
   ]
  },
  {
   "cell_type": "markdown",
   "id": "91f6101a",
   "metadata": {},
   "source": [
    "## Crear entorno virtual \n",
    "(python -m venv + \"nombre que queramos (recomendación que el nombre sea sobre el proyecto)\")\n"
   ]
  },
  {
   "cell_type": "markdown",
   "id": "73e1690e",
   "metadata": {},
   "source": [
    "Crear un entorno virtual por cada proyecto python que se va a hacer (es como hacer un npm install en react)"
   ]
  },
  {
   "cell_type": "markdown",
   "id": "96df5b61",
   "metadata": {},
   "source": [
    "Para activar el entorno virtual hay que escribir lo siguiente en la terminal nombreEntorno\\Scripts\\activate"
   ]
  },
  {
   "cell_type": "code",
   "execution_count": 3,
   "id": "3f9f3f9e",
   "metadata": {},
   "outputs": [
    {
     "name": "stdout",
     "output_type": "stream",
     "text": [
      "hola mundo xd\n"
     ]
    }
   ],
   "source": [
    "print(\"hola mundo xd\")"
   ]
  },
  {
   "cell_type": "markdown",
   "id": "7e5e1a66",
   "metadata": {},
   "source": [
    "##para hacer un print con formato se pone la f + comillas, ejemplo:\n"
   ]
  },
  {
   "cell_type": "code",
   "execution_count": 5,
   "id": "030b9b32",
   "metadata": {},
   "outputs": [
    {
     "name": "stdout",
     "output_type": "stream",
     "text": [
      "la cantidad de veces que se ejecutara el bucle es: 3\n"
     ]
    }
   ],
   "source": [
    "variable = 3;\n",
    "print(f'la cantidad de veces que se ejecutara el bucle es: {variable}')"
   ]
  },
  {
   "cell_type": "markdown",
   "id": "46d16fcf",
   "metadata": {},
   "source": [
    "las comillas deben tener concordancia entre inicio y final\n"
   ]
  }
 ],
 "metadata": {
  "kernelspec": {
   "display_name": "prueba",
   "language": "python",
   "name": "python3"
  },
  "language_info": {
   "codemirror_mode": {
    "name": "ipython",
    "version": 3
   },
   "file_extension": ".py",
   "mimetype": "text/x-python",
   "name": "python",
   "nbconvert_exporter": "python",
   "pygments_lexer": "ipython3",
   "version": "3.11.5"
  }
 },
 "nbformat": 4,
 "nbformat_minor": 5
}
