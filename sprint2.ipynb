{
 "cells": [
  {
   "cell_type": "markdown",
   "id": "5a2fbb84",
   "metadata": {},
   "source": [
    "# Manipulación de datos"
   ]
  },
  {
   "cell_type": "code",
   "execution_count": 1,
   "id": "66342ae8",
   "metadata": {},
   "outputs": [
    {
     "name": "stdout",
     "output_type": "stream",
     "text": [
      "[30, 50, 2, 2, 1, 3, 1, 100, 0]\n",
      "[0, 1, 1, 2, 2, 3, 30, 50, 100]\n",
      "[100, 50, 30, 3, 2, 2, 1, 1, 0]\n",
      "{'pera': 3, 'manzana': 2, 'hola': 2, 'adios': 1, 'mundo': 1}\n"
     ]
    }
   ],
   "source": [
    "#Ordenar datos de una lista\n",
    "\n",
    "edades = [30,50,2,2,1,3,1,100,0,];\n",
    "print(edades)\n",
    "edades.sort() #ordena de forma ascendente\n",
    "print(edades)\n",
    "edades.sort(reverse=True)\n",
    "print(edades) #ordena de forma descendente\n",
    "\n",
    "palabras = \"pera pera pera manzana manzana hola adios hola mundo\"\n",
    "frecuencia = {} #con el método dict{} convertimos cualquier estructura de datos en un diccionario o también es una forma de crear un diccionario vacío\n",
    "\n",
    "for palabra in palabras.split(): #el método split separa por espacios cada palabra que encuentre en la cadena de texto\n",
    "    frecuencia[palabra] = frecuencia.get(palabra, 0) + 1 #consigue la palabra y la va guardando en un diccinario clave valor (clave es la palabra que encuentra y el valor es la frecuencia osea el número de veces que va encontrando esa palabra)\n",
    "\n",
    "print(frecuencia)"
   ]
  },
  {
   "cell_type": "code",
   "execution_count": 2,
   "id": "5ca5e83b",
   "metadata": {},
   "outputs": [
    {
     "name": "stdout",
     "output_type": "stream",
     "text": [
      "{'mouse': 20, 'teclado': 30, 'laptop': 3}\n",
      "{'mouse': 20, 'teclado': 30, 'laptop': 3, 'monolito': 20}\n",
      "True\n",
      "True\n",
      "False\n",
      "{'mouse': 21, 'teclado': 30, 'laptop': 3, 'monolito': 20}\n"
     ]
    }
   ],
   "source": [
    "#Ejemplo de inventario \n",
    "\n",
    "inventario = {\n",
    "    \"mouse\": 20,\n",
    "    \"teclado\": 30,\n",
    "    \"laptop\": 3\n",
    "}\n",
    "\n",
    "def agregarProducto(producto, cantidad):\n",
    "    inventario[producto] = inventario.get(producto, 0) + cantidad\n",
    "\n",
    "def verificarDisponibilidad(producto):\n",
    "    return inventario.get(producto, 0) > 0\n",
    "\n",
    "print(inventario)\n",
    "agregarProducto(\"monolito\", 20) #actualizar la cantidad de un producto existente\n",
    "\n",
    "print(inventario)\n",
    "print(verificarDisponibilidad(\"mouse\"))\n",
    "print(verificarDisponibilidad(\"monolito\"))\n",
    "print(verificarDisponibilidad(\"peras\"))\n",
    "agregarProducto(\"mouse\", 1)\n",
    "print(inventario)\n",
    "\n"
   ]
  },
  {
   "cell_type": "markdown",
   "id": "28f20bec",
   "metadata": {},
   "source": [
    "## Funciones y módulos\n"
   ]
  },
  {
   "cell_type": "code",
   "execution_count": 3,
   "id": "b8eaaa1b",
   "metadata": {},
   "outputs": [
    {
     "name": "stdout",
     "output_type": "stream",
     "text": [
      "('esto es una función: ', 'lambda')\n",
      "15\n",
      "Hola, Invitado\n",
      "Hola, Leo\n"
     ]
    }
   ],
   "source": [
    "# Sintaxis de una función \n",
    "laaamda = \"lambda\"\n",
    "\n",
    "def funcion (tipo): #Son un conjunto de instrucciones para resolver un problema o realizar una tarea, se utiliza la palabra establecida para declarar una función (def) + nombre de la función (es el que queramos, lo recomendable es usar un nombre descriptivo de lo que hace la función y que las funciones sean atómicas, osea, que cada función solo se dedique a hacer una cosa) + parentesis () que pueden ir vacíos o no, dentro de estos paréntesis pueden ir parámetros que son variables, objetos, estructura de datos, etc, requeridos para el desarrollo de la función \n",
    "    return \"esto es una función: \", tipo #las funciones pueden retornar o no retornar algo, pueden retornar variables, cualquier tipo de dato o simplemente imprimir algo. Estos return son para cuando la función es llamada en otra parte del código (al momento de asignar funciones a una variable, la variable solo va a guardar lo que la función retorne, si la función no retorna nada, la variable no va a guardar nada)\n",
    "\n",
    "print(funcion(laaamda)) #los parámetros se lo ponen al momento de llamar una función\n",
    "\n",
    "#ejemplo \n",
    "def suma (a, b): #recibe dos parámetros (en este caso dos variables)\n",
    "    return a + b  #aquí damos la instrucción de que los parámetros que reciba los sume\n",
    "\n",
    "resultado = suma(5, 10) #se envía los parámetros a la función y al momento de llamar la función se ejecuta automáticamente (los parámetros tienen que ser del mismo tipo de dato o del tipo de dato que se requiera)\n",
    "\n",
    "print(resultado)\n",
    "\n",
    "def saludar (nombre=\"Invitado\"): #se pueden establecer valores por defecto a los parámetros en caso de que no lleguemos a mandarle un parámetro al llamar la función\n",
    "    print(f'Hola, {nombre}')\n",
    "    \n",
    "saludar()\n",
    "saludar(\"Leo\")"
   ]
  },
  {
   "cell_type": "markdown",
   "id": "e1d32445",
   "metadata": {},
   "source": [
    "### Funciones lambda"
   ]
  },
  {
   "cell_type": "code",
   "execution_count": 4,
   "id": "58253eae",
   "metadata": {},
   "outputs": [
    {
     "name": "stdout",
     "output_type": "stream",
     "text": [
      "este es una función: Lambda\n",
      "15\n",
      "hola, invitado\n",
      "hola, Leo\n"
     ]
    },
    {
     "data": {
      "text/plain": [
       "'este es una función: asdjad'"
      ]
     },
     "execution_count": 4,
     "metadata": {},
     "output_type": "execute_result"
    }
   ],
   "source": [
    "#también llamadas funciones anónimas son funciones que se pueden escribir en una sola línea \n",
    "lambdda = \"Lambda\"\n",
    "funcionn = lambda tipo: f\"este es una función: {tipo}\"\n",
    "sumaLambda = lambda a, b: a + b\n",
    "\n",
    "resultadoLambda = sumaLambda(5, 10)\n",
    "\n",
    "print(funcionn(lambdda))\n",
    "\n",
    "print(resultadoLambda)\n",
    "saludo = lambda guess=\"invitado\": print(f\"hola, {guess}\")\n",
    "\n",
    "\n",
    "saludo()\n",
    "saludo(\"Leo\") \n",
    "#Las funciones solo pueden retornar una sola vez, eso quiere decir que si una función en vez de imprimir retorna un valor, esta función siempre va a retornar según la última llamada \n",
    "\n",
    "funcionn(\"hjp\") #al momento de ejecutar esta llamada se pierde\n",
    "funcionn(\"asdjad\") #al momento de ejecutar esta llamada reemplaza a la llamada anterior y al no haber otras llamadas que la reemplace se visualiza\n",
    "#Las funciones que no retornan nada no pueden ser asignadas a una variable, solo las funciones que retornan si pueden"
   ]
  },
  {
   "cell_type": "code",
   "execution_count": 5,
   "id": "ff9f8c7a",
   "metadata": {},
   "outputs": [
    {
     "name": "stdout",
     "output_type": "stream",
     "text": [
      "[('manzanas', 1), ('Peras', 4), ('uvas', 3)]\n",
      "Función sorted:  [('manzanas', 1), ('uvas', 3), ('Peras', 4)]\n",
      "[1, 2, 3, 4, 5, 6, 7]\n",
      "Función filter (pares):  [2, 4, 6]\n",
      "Función map (elevar al cuadrado):  [1, 4, 9, 16, 25, 36, 49]\n"
     ]
    }
   ],
   "source": [
    "#Función sorted(iterable, key)\n",
    "\n",
    "productos = [(\"manzanas\", 1), (\"Peras\", 4), (\"uvas\", 3)];\n",
    "\n",
    "ordenados = list(sorted(productos, key= lambda x: x[1])); #La función sorted ordena ya sea de forma numéritca o alfabética (prioriza las mayúsculas primero en caso de ordenar por caracter), el primer parámetro que recibe es el iterable y el segundo es la llave que funciona para saber qué índice del iterable vamos a tomar en cuenta para ordenar\n",
    "print(productos);\n",
    "print(\"Función sorted: \",ordenados);\n",
    "\n",
    "numeros = [1, 2, 3, 4, 5, 6, 7];\n",
    "\n",
    "#Función filter(función/condición, iterable) \n",
    "filtrar_pares = list(filter(lambda x: x % 2 == 0, numeros)); #Esta función solo toma en cuenta los valores que cumplan con la condición\n",
    "print(numeros);\n",
    "print(\"Función filter (pares): \", filtrar_pares)\n",
    "\n",
    "#Funcion map(funcion, iterable)\n",
    "cuadrados = list(map(lambda x: x**2, numeros)); #Esta función itera una estructura de datos y realiza una función por cada valor de cada iteración, es como un bucle for pero enfocado para estructura de datos.\n",
    "print(\"Función map (elevar al cuadrado): \", cuadrados)\n"
   ]
  },
  {
   "cell_type": "markdown",
   "id": "4f88d143",
   "metadata": {},
   "source": [
    "# Instalación e importación de módulos y librerías "
   ]
  },
  {
   "cell_type": "markdown",
   "id": "6fa3b484",
   "metadata": {},
   "source": [
    "Para instalar módulos y librerías se usa la palabra pip más la acción install seguido del nombre de lo que queremos instalar como dependencia al proyecto"
   ]
  },
  {
   "cell_type": "code",
   "execution_count": 6,
   "id": "65a17f2a",
   "metadata": {},
   "outputs": [
    {
     "name": "stdout",
     "output_type": "stream",
     "text": [
      "Requirement already satisfied: numpy in c:\\users\\personal\\appdata\\local\\programs\\python\\python311\\lib\\site-packages (1.26.3)\n"
     ]
    },
    {
     "name": "stderr",
     "output_type": "stream",
     "text": [
      "\n",
      "[notice] A new release of pip is available: 23.3.2 -> 25.2\n",
      "[notice] To update, run: python.exe -m pip install --upgrade pip\n"
     ]
    },
    {
     "name": "stdout",
     "output_type": "stream",
     "text": [
      "Requirement already satisfied: pandas in c:\\users\\personal\\appdata\\local\\programs\\python\\python311\\lib\\site-packages (2.3.2)\n",
      "Requirement already satisfied: numpy>=1.23.2 in c:\\users\\personal\\appdata\\local\\programs\\python\\python311\\lib\\site-packages (from pandas) (1.26.3)\n",
      "Requirement already satisfied: python-dateutil>=2.8.2 in c:\\users\\personal\\appdata\\local\\programs\\python\\python311\\lib\\site-packages (from pandas) (2.9.0.post0)\n",
      "Requirement already satisfied: pytz>=2020.1 in c:\\users\\personal\\appdata\\local\\programs\\python\\python311\\lib\\site-packages (from pandas) (2025.2)\n",
      "Requirement already satisfied: tzdata>=2022.7 in c:\\users\\personal\\appdata\\local\\programs\\python\\python311\\lib\\site-packages (from pandas) (2025.2)\n",
      "Requirement already satisfied: six>=1.5 in c:\\users\\personal\\appdata\\local\\programs\\python\\python311\\lib\\site-packages (from python-dateutil>=2.8.2->pandas) (1.16.0)\n"
     ]
    },
    {
     "name": "stderr",
     "output_type": "stream",
     "text": [
      "\n",
      "[notice] A new release of pip is available: 23.3.2 -> 25.2\n",
      "[notice] To update, run: python.exe -m pip install --upgrade pip\n"
     ]
    }
   ],
   "source": [
    "!pip install numpy\n",
    "!pip install pandas"
   ]
  },
  {
   "cell_type": "markdown",
   "id": "ce7c9f8f",
   "metadata": {},
   "source": [
    "Importamos las librerías para darles uso con la palabra \"import\" más el nombre de la librería, también podemos usar la palabra \"as\" para darle un alias al momento de llamar a la librería dentro del código o simplemente llamamos a la librería tal y como se llama "
   ]
  },
  {
   "cell_type": "code",
   "execution_count": 7,
   "id": "680249f5",
   "metadata": {},
   "outputs": [
    {
     "name": "stdout",
     "output_type": "stream",
     "text": [
      "   A  B  C\n",
      "0  1  2  3\n",
      "1  4  5  6\n",
      "2  7  8  9\n"
     ]
    },
    {
     "data": {
      "text/html": [
       "<div>\n",
       "<style scoped>\n",
       "    .dataframe tbody tr th:only-of-type {\n",
       "        vertical-align: middle;\n",
       "    }\n",
       "\n",
       "    .dataframe tbody tr th {\n",
       "        vertical-align: top;\n",
       "    }\n",
       "\n",
       "    .dataframe thead th {\n",
       "        text-align: right;\n",
       "    }\n",
       "</style>\n",
       "<table border=\"1\" class=\"dataframe\">\n",
       "  <thead>\n",
       "    <tr style=\"text-align: right;\">\n",
       "      <th></th>\n",
       "      <th>A</th>\n",
       "      <th>B</th>\n",
       "      <th>C</th>\n",
       "    </tr>\n",
       "  </thead>\n",
       "  <tbody>\n",
       "    <tr>\n",
       "      <th>count</th>\n",
       "      <td>3.0</td>\n",
       "      <td>3.0</td>\n",
       "      <td>3.0</td>\n",
       "    </tr>\n",
       "    <tr>\n",
       "      <th>mean</th>\n",
       "      <td>4.0</td>\n",
       "      <td>5.0</td>\n",
       "      <td>6.0</td>\n",
       "    </tr>\n",
       "    <tr>\n",
       "      <th>std</th>\n",
       "      <td>3.0</td>\n",
       "      <td>3.0</td>\n",
       "      <td>3.0</td>\n",
       "    </tr>\n",
       "    <tr>\n",
       "      <th>min</th>\n",
       "      <td>1.0</td>\n",
       "      <td>2.0</td>\n",
       "      <td>3.0</td>\n",
       "    </tr>\n",
       "    <tr>\n",
       "      <th>25%</th>\n",
       "      <td>2.5</td>\n",
       "      <td>3.5</td>\n",
       "      <td>4.5</td>\n",
       "    </tr>\n",
       "    <tr>\n",
       "      <th>50%</th>\n",
       "      <td>4.0</td>\n",
       "      <td>5.0</td>\n",
       "      <td>6.0</td>\n",
       "    </tr>\n",
       "    <tr>\n",
       "      <th>75%</th>\n",
       "      <td>5.5</td>\n",
       "      <td>6.5</td>\n",
       "      <td>7.5</td>\n",
       "    </tr>\n",
       "    <tr>\n",
       "      <th>max</th>\n",
       "      <td>7.0</td>\n",
       "      <td>8.0</td>\n",
       "      <td>9.0</td>\n",
       "    </tr>\n",
       "  </tbody>\n",
       "</table>\n",
       "</div>"
      ],
      "text/plain": [
       "         A    B    C\n",
       "count  3.0  3.0  3.0\n",
       "mean   4.0  5.0  6.0\n",
       "std    3.0  3.0  3.0\n",
       "min    1.0  2.0  3.0\n",
       "25%    2.5  3.5  4.5\n",
       "50%    4.0  5.0  6.0\n",
       "75%    5.5  6.5  7.5\n",
       "max    7.0  8.0  9.0"
      ]
     },
     "execution_count": 7,
     "metadata": {},
     "output_type": "execute_result"
    }
   ],
   "source": [
    "import numpy as np;\n",
    "import pandas as pd;\n",
    "\n",
    "datos = np.array([[1, 2,3], [4, 5, 6], [7, 8, 9]]); #numpy.array permite crear matrices de listas que puedes servir para hacer matrices multidimensionales, etc.\n",
    "df = pd.DataFrame(datos, columns = [\"A\", \"B\", \"C\"]); #pandas.DataFrame permite crear matrices con filas (datos) y columnas (columns) se puede definir el nombre de las columnas \n",
    "print(df) #imprime de forma sencilla\n",
    "df #imprime con el formato predeterminado de la librería de pandas\n",
    "df.describe() #imprime datos relacionados (estadísticos y descriptivos) con la información que tienen las matrices\n"
   ]
  },
  {
   "cell_type": "code",
   "execution_count": 8,
   "id": "8f98343f",
   "metadata": {},
   "outputs": [
    {
     "data": {
      "text/html": [
       "<div>\n",
       "<style scoped>\n",
       "    .dataframe tbody tr th:only-of-type {\n",
       "        vertical-align: middle;\n",
       "    }\n",
       "\n",
       "    .dataframe tbody tr th {\n",
       "        vertical-align: top;\n",
       "    }\n",
       "\n",
       "    .dataframe thead th {\n",
       "        text-align: right;\n",
       "    }\n",
       "</style>\n",
       "<table border=\"1\" class=\"dataframe\">\n",
       "  <thead>\n",
       "    <tr style=\"text-align: right;\">\n",
       "      <th></th>\n",
       "      <th>Nombre</th>\n",
       "      <th>Apellido</th>\n",
       "      <th>Edad</th>\n",
       "    </tr>\n",
       "  </thead>\n",
       "  <tbody>\n",
       "    <tr>\n",
       "      <th>0</th>\n",
       "      <td>Leo</td>\n",
       "      <td>Gonzalez</td>\n",
       "      <td>19</td>\n",
       "    </tr>\n",
       "    <tr>\n",
       "      <th>1</th>\n",
       "      <td>Antonio</td>\n",
       "      <td>Gavilanes</td>\n",
       "      <td>18</td>\n",
       "    </tr>\n",
       "  </tbody>\n",
       "</table>\n",
       "</div>"
      ],
      "text/plain": [
       "    Nombre   Apellido  Edad\n",
       "0      Leo   Gonzalez    19\n",
       "1  Antonio  Gavilanes    18"
      ]
     },
     "execution_count": 8,
     "metadata": {},
     "output_type": "execute_result"
    }
   ],
   "source": [
    "#crear dataframe con diccionarios\n",
    "import numpy;\n",
    "import pandas;\n",
    "#Los Dataframe de pandas funcionas con diccionarios de valores de listas o vectores, no funcionan con diccionarios de un solo valor(escalares)\n",
    "diccionario = {\n",
    "    \"Nombre\": [\"Leo\", \"Antonio\"], #solo valores de listas \n",
    "    \"Apellido\": [\"Gonzalez\", \"Gavilanes\"],\n",
    "    \"Edad\": [19, 18]\n",
    "};\n",
    "#Todas las listas de valores deben tener el mismo tamaño para poder hacer los dataframes\n",
    "\n",
    "dataframe = pandas.DataFrame(diccionario); #Los dataframe son tablas bidimensionales con filas y columnas \n",
    "dataframe\n"
   ]
  },
  {
   "cell_type": "code",
   "execution_count": 9,
   "id": "485db3d4",
   "metadata": {},
   "outputs": [
    {
     "data": {
      "text/html": [
       "<div>\n",
       "<style scoped>\n",
       "    .dataframe tbody tr th:only-of-type {\n",
       "        vertical-align: middle;\n",
       "    }\n",
       "\n",
       "    .dataframe tbody tr th {\n",
       "        vertical-align: top;\n",
       "    }\n",
       "\n",
       "    .dataframe thead th {\n",
       "        text-align: right;\n",
       "    }\n",
       "</style>\n",
       "<table border=\"1\" class=\"dataframe\">\n",
       "  <thead>\n",
       "    <tr style=\"text-align: right;\">\n",
       "      <th></th>\n",
       "      <th>Nombre</th>\n",
       "      <th>Apellido</th>\n",
       "      <th>Edad</th>\n",
       "    </tr>\n",
       "  </thead>\n",
       "  <tbody>\n",
       "    <tr>\n",
       "      <th>0</th>\n",
       "      <td>Leo</td>\n",
       "      <td>Gonzalez</td>\n",
       "      <td>19</td>\n",
       "    </tr>\n",
       "    <tr>\n",
       "      <th>1</th>\n",
       "      <td>Antonio</td>\n",
       "      <td>Gavilanes</td>\n",
       "      <td>20</td>\n",
       "    </tr>\n",
       "  </tbody>\n",
       "</table>\n",
       "</div>"
      ],
      "text/plain": [
       "    Nombre   Apellido  Edad\n",
       "0      Leo   Gonzalez    19\n",
       "1  Antonio  Gavilanes    20"
      ]
     },
     "execution_count": 9,
     "metadata": {},
     "output_type": "execute_result"
    }
   ],
   "source": [
    "#crear dataframe de una lista\n",
    "\n",
    "lista = [\n",
    "    {\"Nombre\": \"Leo\", \"Apellido\": \"Gonzalez\", \"Edad\": 19},\n",
    "    {\"Nombre\": \"Antonio\", \"Apellido\": \"Gavilanes\", \"Edad\": 20}\n",
    "];\n",
    "\n",
    "datos = pandas.DataFrame(lista);\n",
    "datos\n"
   ]
  },
  {
   "cell_type": "code",
   "execution_count": 10,
   "id": "f61806ed",
   "metadata": {},
   "outputs": [
    {
     "name": "stdout",
     "output_type": "stream",
     "text": [
      "[19 20]\n",
      "19.5\n",
      "19.5\n",
      "0.5\n",
      "0.25\n"
     ]
    }
   ],
   "source": [
    "#Medidas de tendencia central con numpy\n",
    "\n",
    "numeros = numpy.array(datos[\"Edad\"]);\n",
    "print(numeros)\n",
    "print(numpy.mean(numeros)); #media\n",
    "print(numpy.median(numeros)); #mediana\n",
    "print(numpy.std(numeros)); #desviación estandar \n",
    "print(numpy.var(numeros)); #varianza \n"
   ]
  },
  {
   "cell_type": "code",
   "execution_count": 11,
   "id": "69f4c97b",
   "metadata": {},
   "outputs": [
    {
     "name": "stdout",
     "output_type": "stream",
     "text": [
      "[[4 3 3 6]\n",
      " [2 7 8 3]]\n"
     ]
    },
    {
     "data": {
      "text/html": [
       "<div>\n",
       "<style scoped>\n",
       "    .dataframe tbody tr th:only-of-type {\n",
       "        vertical-align: middle;\n",
       "    }\n",
       "\n",
       "    .dataframe tbody tr th {\n",
       "        vertical-align: top;\n",
       "    }\n",
       "\n",
       "    .dataframe thead th {\n",
       "        text-align: right;\n",
       "    }\n",
       "</style>\n",
       "<table border=\"1\" class=\"dataframe\">\n",
       "  <thead>\n",
       "    <tr style=\"text-align: right;\">\n",
       "      <th></th>\n",
       "      <th>Productos</th>\n",
       "      <th>Stock</th>\n",
       "      <th>Ventas</th>\n",
       "    </tr>\n",
       "  </thead>\n",
       "  <tbody>\n",
       "    <tr>\n",
       "      <th>0</th>\n",
       "      <td>Teclado</td>\n",
       "      <td>1538</td>\n",
       "      <td>113</td>\n",
       "    </tr>\n",
       "    <tr>\n",
       "      <th>1</th>\n",
       "      <td>Mouse</td>\n",
       "      <td>459</td>\n",
       "      <td>143</td>\n",
       "    </tr>\n",
       "    <tr>\n",
       "      <th>2</th>\n",
       "      <td>Monitor</td>\n",
       "      <td>402</td>\n",
       "      <td>193</td>\n",
       "    </tr>\n",
       "    <tr>\n",
       "      <th>3</th>\n",
       "      <td>Laptop</td>\n",
       "      <td>1194</td>\n",
       "      <td>199</td>\n",
       "    </tr>\n",
       "    <tr>\n",
       "      <th>4</th>\n",
       "      <td>MousePad</td>\n",
       "      <td>1678</td>\n",
       "      <td>107</td>\n",
       "    </tr>\n",
       "  </tbody>\n",
       "</table>\n",
       "</div>"
      ],
      "text/plain": [
       "  Productos  Stock  Ventas\n",
       "0   Teclado   1538     113\n",
       "1     Mouse    459     143\n",
       "2   Monitor    402     193\n",
       "3    Laptop   1194     199\n",
       "4  MousePad   1678     107"
      ]
     },
     "execution_count": 11,
     "metadata": {},
     "output_type": "execute_result"
    }
   ],
   "source": [
    "#números random con numpy\n",
    "\n",
    "data = {\n",
    "    \"Productos\": [\"Teclado\", \"Mouse\", \"Monitor\", \"Laptop\", \"MousePad\"],\n",
    "    \"Stock\": numpy.random.randint(10, 2000, size=5), #size es para aclarar al máximo de números aleatorio que queramos que nos mande la función random y también podemos pedir números random para llenar una matriz.\n",
    "    \"Ventas\": numpy.random.randint(50, 200, size=5)\n",
    "};\n",
    "\n",
    "frameDatos = pandas.DataFrame(data)\n",
    "\n",
    "matriz = numpy.random.randint(1, 10, size= [2,4]) #pedimos números random para llenar una matriz de números aletorios de 2x4\n",
    "print(matriz)\n",
    "frameDatos"
   ]
  },
  {
   "cell_type": "code",
   "execution_count": 12,
   "id": "553a26a7",
   "metadata": {},
   "outputs": [
    {
     "name": "stdout",
     "output_type": "stream",
     "text": [
      "             Stock      Ventas   NuevoStock\n",
      "count     5.000000    5.000000     5.000000\n",
      "mean   1054.200000  151.000000   903.200000\n",
      "std     596.313844   43.335897   623.172689\n",
      "min     402.000000  107.000000   209.000000\n",
      "25%     459.000000  113.000000   316.000000\n",
      "50%    1194.000000  143.000000   995.000000\n",
      "75%    1538.000000  193.000000  1425.000000\n",
      "max    1678.000000  199.000000  1571.000000\n",
      "======================================\n",
      "  Productos  Stock  Ventas  NuevoStock\n",
      "1     Mouse    459     143         316\n",
      "2   Monitor    402     193         209\n"
     ]
    }
   ],
   "source": [
    "#crear una nueva columna según calculos \n",
    "frameDatos = pandas.DataFrame(data)\n",
    "\n",
    "frameDatos[\"NuevoStock\"] = frameDatos[\"Stock\"] - frameDatos[\"Ventas\"]\n",
    "print(frameDatos.describe()) #La función describre() sirve para ver estadísticas del dataframe\n",
    "\n",
    "print(\"======================================\")\n",
    "#crear un nuevo dataframe que cumpla con una condición\n",
    "nuevoFrame = frameDatos[frameDatos[\"Stock\"] < 1000]\n",
    "print(nuevoFrame)"
   ]
  },
  {
   "cell_type": "code",
   "execution_count": 13,
   "id": "8e585608",
   "metadata": {},
   "outputs": [
    {
     "name": "stdout",
     "output_type": "stream",
     "text": [
      "903.2\n"
     ]
    }
   ],
   "source": [
    "#filtrar estadísticas \n",
    "\n",
    "print(numpy.mean(frameDatos[\"NuevoStock\"])) #se elige la estadística y columna que queremos ver del dataframe"
   ]
  },
  {
   "cell_type": "markdown",
   "id": "fb236b7a",
   "metadata": {},
   "source": [
    "## Manejo de excepciones y errores\n"
   ]
  },
  {
   "cell_type": "markdown",
   "id": "5a050444",
   "metadata": {},
   "source": [
    "Errores comunes son:\n",
    "- División por cero: ZeroDivisionError\n",
    "- IndexError: índice fuera del rango de una estructura de datos\n",
    "- KeyError: clave no encontrada en un diccionario\n",
    "- TypeError: operación de tipos de datos no compatibles\n",
    "- valueError: conversión de datos inválida "
   ]
  },
  {
   "cell_type": "code",
   "execution_count": null,
   "id": "eb3e50c6",
   "metadata": {},
   "outputs": [
    {
     "ename": "ZeroDivisionError",
     "evalue": "division by zero",
     "output_type": "error",
     "traceback": [
      "\u001b[31m---------------------------------------------------------------------------\u001b[39m",
      "\u001b[31mZeroDivisionError\u001b[39m                         Traceback (most recent call last)",
      "\u001b[36mCell\u001b[39m\u001b[36m \u001b[39m\u001b[32mIn[15]\u001b[39m\u001b[32m, line 3\u001b[39m\n\u001b[32m      1\u001b[39m \u001b[38;5;66;03m# sin manejo de excepciones o errores\u001b[39;00m\n\u001b[32m----> \u001b[39m\u001b[32m3\u001b[39m dividir = \u001b[32;43m5\u001b[39;49m\u001b[43m \u001b[49m\u001b[43m/\u001b[49m\u001b[43m \u001b[49m\u001b[32;43m0\u001b[39;49m\n\u001b[32m      4\u001b[39m \u001b[38;5;28mprint\u001b[39m(dividir)\n\u001b[32m      6\u001b[39m suma = \u001b[32m5\u001b[39m + \u001b[32m5\u001b[39m\n",
      "\u001b[31mZeroDivisionError\u001b[39m: division by zero"
     ]
    }
   ],
   "source": [
    "# sin manejo de excepciones o errores\n",
    "\n",
    "dividir = 5 / 0\n",
    "print(dividir)\n",
    "#solo se va a ejecutar hasta el error y lo que no haya después del error no sa ejecuta\n",
    "suma = 5 + 5\n",
    "print(suma)"
   ]
  },
  {
   "cell_type": "code",
   "execution_count": 23,
   "id": "56330fc1",
   "metadata": {},
   "outputs": [
    {
     "name": "stdout",
     "output_type": "stream",
     "text": [
      "Ha ocurrido un error:  {ZeroDivisionError('division by zero')}\n",
      "el programa sigue ejecutandose\n",
      "Ha ocurrido el siguiente error:  {ValueError(\"invalid literal for int() with base 10: '10w'\")}\n",
      "programa sigue ejecutandose\n",
      "10\n"
     ]
    }
   ],
   "source": [
    "#usamos las sentencias try - except para que el código no termine su ejecución al encontrarse con un error \n",
    "try: \n",
    "    dividir = 5/0\n",
    "    print(dividir) #la sentencia try captura el error para que no afecte al resto de la ejecución del código, por lo tanto, esto se utiliza cuando sabemos que dentro de este bloque de código puede ocurrir algún error\n",
    "except ZeroDivisionError as dividir: #si sabemos que solo puede ocurrir un error en específico podemos ponerle un alias a ese error (así como en las importaciones de módulos y librerías con la sentencia as) \n",
    "    print(\"Ha ocurrido un error: \", {dividir})\n",
    "    \n",
    "print(\"el programa sigue ejecutandose\")\n",
    "\n",
    "try:\n",
    "    suma = int(\"10w\")\n",
    "    print(\"error de conversión\")\n",
    "except Exception as a: #Cuando no sabemos qué error especifico pueda ocurrir podemos usar la sentencia Exception que toma en cuenta cualquier tipo de error de forma general y los trata a todos por igual\n",
    "    print(\"Ha ocurrido el siguiente error: \", {a})\n",
    "print(\"programa sigue ejecutandose\")\n",
    "suma = 5 +5\n",
    "print(suma)"
   ]
  },
  {
   "cell_type": "code",
   "execution_count": null,
   "id": "2cab4771",
   "metadata": {},
   "outputs": [
    {
     "name": "stdout",
     "output_type": "stream",
     "text": [
      "esto es código normal\n",
      "no hubieron errores\n",
      "Termina el bloque de código\n",
      "====================\n",
      "esto es código normal\n",
      "hubo un error inesperado {ZeroDivisionError('division by zero')}\n",
      "Termina el bloque de código\n"
     ]
    }
   ],
   "source": [
    "#también están las sentencias else y finally que se utilizan después de la excepción en caso de no haber errores\n",
    "\n",
    "try:\n",
    "    print(\"esto es código normal\")\n",
    "except Exception as e:\n",
    "    print(\"hubo un error inesperado\", {e})\n",
    "else: #esta sentencia solo se ejecuta en caso de que no hayan habido excepciones (errores) dentro de bloque de código de la sentencia try\n",
    "    print(\"no hubieron errores\")\n",
    "finally: #esta sentencia siempre se va a ejecutar al final así hayan habido errores o no\n",
    "    print(\"Termina el bloque de código\")\n",
    "    \n",
    "print(\"====================\")\n",
    "\n",
    "\n",
    "try:\n",
    "    \n",
    "    print(\"esto es código normal\")\n",
    "    sumaa = 5/0\n",
    "    print(sumaa) #el bloque try siempre va a detenerse al primer error que encuentre, y va a ignorar lo que le sigue, si queremos probar varios errores tendremos que hacerlo en try-except diferentes \n",
    "except Exception as e:\n",
    "    print(\"hubo un error inesperado\", {e})\n",
    "else:\n",
    "    print(\"no hubieron errores\")\n",
    "finally:\n",
    "    print(\"Termina el bloque de código\")\n"
   ]
  },
  {
   "cell_type": "markdown",
   "id": "4fe3057a",
   "metadata": {},
   "source": [
    "todas estas sentencias contienen bloques de código \n",
    "- try: bloque de código principal a ejecutar \n",
    "- except: bloque de código a ejecutar en caso de haber un error dentro del bloque de código principal\n",
    "- else: bloque de código a ejecutar en caso de no haber un error dentro del bloque de código principal\n",
    "- finally: bloque de código que siempre se va a ejecutar al final haya habido o no un error dentro del bloque de código principal"
   ]
  }
 ],
 "metadata": {
  "kernelspec": {
   "display_name": "Python 3",
   "language": "python",
   "name": "python3"
  },
  "language_info": {
   "codemirror_mode": {
    "name": "ipython",
    "version": 3
   },
   "file_extension": ".py",
   "mimetype": "text/x-python",
   "name": "python",
   "nbconvert_exporter": "python",
   "pygments_lexer": "ipython3",
   "version": "3.11.5"
  }
 },
 "nbformat": 4,
 "nbformat_minor": 5
}
