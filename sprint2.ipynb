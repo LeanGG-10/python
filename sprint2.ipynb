{
 "cells": [
  {
   "cell_type": "markdown",
   "id": "5a2fbb84",
   "metadata": {},
   "source": [
    "# Manipulación de datos"
   ]
  },
  {
   "cell_type": "code",
   "execution_count": 9,
   "id": "66342ae8",
   "metadata": {},
   "outputs": [
    {
     "name": "stdout",
     "output_type": "stream",
     "text": [
      "[30, 50, 2, 2, 1, 3, 1, 100, 0]\n",
      "[0, 1, 1, 2, 2, 3, 30, 50, 100]\n",
      "[100, 50, 30, 3, 2, 2, 1, 1, 0]\n",
      "{'pera': 3, 'manzana': 2, 'hola': 2, 'adios': 1, 'mundo': 1}\n"
     ]
    }
   ],
   "source": [
    "#Ordenar datos de una lista\n",
    "\n",
    "edades = [30,50,2,2,1,3,1,100,0,];\n",
    "print(edades)\n",
    "edades.sort() #ordena de forma ascendente\n",
    "print(edades)\n",
    "edades.sort(reverse=True)\n",
    "print(edades) #ordena de forma descendente\n",
    "\n",
    "palabras = \"pera pera pera manzana manzana hola adios hola mundo\"\n",
    "frecuencia = {} #con el método dict{} convertimos cualquier estructura de datos en un diccionario o también es una forma de crear un diccionario vacío\n",
    "\n",
    "for palabra in palabras.split(): #el método split separa por espacios cada palabra que encuentre en la cadena de texto\n",
    "    frecuencia[palabra] = frecuencia.get(palabra, 0) + 1 #consigue la palabra y la va guardando en un diccinario clave valor (clave es la palabra que encuentra y el valor es la frecuencia osea el número de veces que va encontrando esa palabra)\n",
    "\n",
    "print(frecuencia)"
   ]
  },
  {
   "cell_type": "code",
   "execution_count": 14,
   "id": "5ca5e83b",
   "metadata": {},
   "outputs": [
    {
     "name": "stdout",
     "output_type": "stream",
     "text": [
      "{'mouse': 20, 'teclado': 30, 'laptop': 3}\n",
      "{'mouse': 20, 'teclado': 30, 'laptop': 3, 'monolito': 20}\n",
      "True\n",
      "True\n",
      "False\n",
      "{'mouse': 21, 'teclado': 30, 'laptop': 3, 'monolito': 20}\n"
     ]
    }
   ],
   "source": [
    "#Ejemplo de inventario \n",
    "\n",
    "inventario = {\n",
    "    \"mouse\": 20,\n",
    "    \"teclado\": 30,\n",
    "    \"laptop\": 3\n",
    "}\n",
    "\n",
    "def agregarProducto(producto, cantidad):\n",
    "    inventario[producto] = inventario.get(producto, 0) + cantidad\n",
    "\n",
    "def verificarDisponibilidad(producto):\n",
    "    return inventario.get(producto, 0) > 0\n",
    "\n",
    "print(inventario)\n",
    "agregarProducto(\"monolito\", 20) #actualizar la cantidad de un producto existente\n",
    "\n",
    "print(inventario)\n",
    "print(verificarDisponibilidad(\"mouse\"))\n",
    "print(verificarDisponibilidad(\"monolito\"))\n",
    "print(verificarDisponibilidad(\"peras\"))\n",
    "agregarProducto(\"mouse\", 1)\n",
    "print(inventario)\n",
    "\n"
   ]
  },
  {
   "cell_type": "markdown",
   "id": "28f20bec",
   "metadata": {},
   "source": [
    "## Funciones y módulos\n"
   ]
  },
  {
   "cell_type": "code",
   "execution_count": null,
   "id": "b8eaaa1b",
   "metadata": {},
   "outputs": [
    {
     "name": "stdout",
     "output_type": "stream",
     "text": [
      "('esto es una función: ', 'lambda')\n",
      "15\n",
      "Hola, Invitado\n",
      "Hola, Leo\n"
     ]
    }
   ],
   "source": [
    "# Sintaxis de una función \n",
    "laaamda = \"lambda\"\n",
    "\n",
    "def funcion (tipo): #Son un conjunto de instrucciones para resolver un problema o realizar una tarea, se utiliza la palabra establecida para declarar una función (def) + nombre de la función (es el que queramos, lo recomendable es usar un nombre descriptivo de lo que hace la función y que las funciones sean atómicas, osea, que cada función solo se dedique a hacer una cosa) + parentesis () que pueden ir vacíos o no, dentro de estos paréntesis pueden ir parámetros que son variables, objetos, estructura de datos, etc, requeridos para el desarrollo de la función \n",
    "    return \"esto es una función: \", tipo #las funciones pueden retornar o no retornar algo, pueden retornar variables, cualquier tipo de dato o simplemente imprimir algo. Estos return son para cuando la función es llamada en otra parte del código (al momento de asignar funciones a una variable, la variable solo va a guardar lo que la función retorne, si la función no retorna nada, la variable no va a guardar nada)\n",
    "\n",
    "print(funcion(laaamda)) #los parámetros se lo ponen al momento de llamar una función\n",
    "\n",
    "#ejemplo \n",
    "def suma (a, b): #recibe dos parámetros (en este caso dos variables)\n",
    "    return a + b  #aquí damos la instrucción de que los parámetros que reciba los sume\n",
    "\n",
    "resultado = suma(5, 10) #se envía los parámetros a la función y al momento de llamar la función se ejecuta automáticamente (los parámetros tienen que ser del mismo tipo de dato o del tipo de dato que se requiera)\n",
    "\n",
    "print(resultado)\n",
    "\n",
    "def saludar (nombre=\"Invitado\"): #se pueden establecer valores por defecto a los parámetros en caso de que no lleguemos a mandarle un parámetro al llamar la función\n",
    "    print(f'Hola, {nombre}')\n",
    "    \n",
    "saludar()\n",
    "saludar(\"Leo\")"
   ]
  },
  {
   "cell_type": "markdown",
   "id": "e1d32445",
   "metadata": {},
   "source": [
    "### Funciones lambda"
   ]
  },
  {
   "cell_type": "code",
   "execution_count": 55,
   "id": "58253eae",
   "metadata": {},
   "outputs": [
    {
     "name": "stdout",
     "output_type": "stream",
     "text": [
      "este es una función: Lambda\n",
      "15\n",
      "hola, invitado\n",
      "hola, Leo\n"
     ]
    },
    {
     "data": {
      "text/plain": [
       "'este es una función: asdjad'"
      ]
     },
     "execution_count": 56,
     "metadata": {},
     "output_type": "execute_result"
    }
   ],
   "source": [
    "#también llamadas funciones anónimas son funciones que se pueden escribir en una sola línea \n",
    "lambdda = \"Lambda\"\n",
    "funcionn = lambda tipo: f\"este es una función: {tipo}\"\n",
    "sumaLambda = lambda a, b: a + b\n",
    "\n",
    "resultadoLambda = sumaLambda(5, 10)\n",
    "\n",
    "print(funcionn(lambdda))\n",
    "\n",
    "print(resultadoLambda)\n",
    "saludo = lambda guess=\"invitado\": print(f\"hola, {guess}\")\n",
    "\n",
    "\n",
    "saludo()\n",
    "saludo(\"Leo\") \n",
    "#Las funciones solo pueden retornar una sola vez, eso quiere decir que si una función en vez de imprimir retorna un valor, esta función siempre va a retornar según la última llamada \n",
    "\n",
    "funcionn(\"hjp\") #al momento de ejecutar esta llamada se pierde\n",
    "funcionn(\"asdjad\") #al momento de ejecutar esta llamada reemplaza a la llamada anterior y al no haber otras llamadas que la reemplace se visualiza\n",
    "#Las funciones que no retornan nada no pueden ser asignadas a una variable, solo las funciones que retornan si pueden"
   ]
  },
  {
   "cell_type": "code",
   "execution_count": 3,
   "id": "ff9f8c7a",
   "metadata": {},
   "outputs": [
    {
     "name": "stdout",
     "output_type": "stream",
     "text": [
      "[('manzanas', 1), ('Peras', 4), ('uvas', 3)]\n",
      "Función sorted:  [('manzanas', 1), ('uvas', 3), ('Peras', 4)]\n",
      "[1, 2, 3, 4, 5, 6, 7]\n",
      "Función filter (pares):  [2, 4, 6]\n",
      "Función map (elevar al cuadrado):  [1, 4, 9, 16, 25, 36, 49]\n"
     ]
    }
   ],
   "source": [
    "#Función sorted(iterable, key)\n",
    "\n",
    "productos = [(\"manzanas\", 1), (\"Peras\", 4), (\"uvas\", 3)];\n",
    "\n",
    "ordenados = list(sorted(productos, key= lambda x: x[1])); #La función sorted ordena ya sea de forma numéritca o alfabética (prioriza las mayúsculas primero en caso de ordenar por caracter), el primer parámetro que recibe es el iterable y el segundo es la llave que funciona para saber qué índice del iterable vamos a tomar en cuenta para ordenar\n",
    "print(productos);\n",
    "print(\"Función sorted: \",ordenados);\n",
    "\n",
    "numeros = [1, 2, 3, 4, 5, 6, 7];\n",
    "\n",
    "#Función filter(función/condición, iterable) \n",
    "filtrar_pares = list(filter(lambda x: x % 2 == 0, numeros)); #Esta función solo toma en cuenta los valores que cumplan con la condición\n",
    "print(numeros);\n",
    "print(\"Función filter (pares): \", filtrar_pares)\n",
    "\n",
    "#Funcion map(funcion, iterable)\n",
    "cuadrados = list(map(lambda x: x**2, numeros)); #Esta función itera una estructura de datos y realiza una función por cada valor de cada iteración, es como un bucle for pero enfocado para estructura de datos.\n",
    "print(\"Función map (elevar al cuadrado): \", cuadrados)\n"
   ]
  },
  {
   "cell_type": "markdown",
   "id": "4f88d143",
   "metadata": {},
   "source": [
    "# Instalación e importación de módulos y librerías "
   ]
  },
  {
   "cell_type": "markdown",
   "id": "6fa3b484",
   "metadata": {},
   "source": [
    "Para instalar módulos y librerías se usa la palabra pip más la acción install seguido del nombre de lo que queremos instalar como dependencia al proyecto"
   ]
  },
  {
   "cell_type": "code",
   "execution_count": 1,
   "id": "65a17f2a",
   "metadata": {},
   "outputs": [
    {
     "name": "stdout",
     "output_type": "stream",
     "text": [
      "Collecting numpy\n",
      "  Obtaining dependency information for numpy from https://files.pythonhosted.org/packages/0a/a2/a4f78cb2241fe5664a22a10332f2be886dcdea8784c9f6a01c272da9b426/numpy-2.3.3-cp311-cp311-win_amd64.whl.metadata\n",
      "  Downloading numpy-2.3.3-cp311-cp311-win_amd64.whl.metadata (60 kB)\n",
      "     ---------------------------------------- 0.0/60.9 kB ? eta -:--:--\n",
      "     ------ --------------------------------- 10.2/60.9 kB ? eta -:--:--\n",
      "     ------ --------------------------------- 10.2/60.9 kB ? eta -:--:--\n",
      "     ------------------- ------------------ 30.7/60.9 kB 217.9 kB/s eta 0:00:01\n",
      "     ------------------------- ------------ 41.0/60.9 kB 281.8 kB/s eta 0:00:01\n",
      "     ------------------------------- ------ 51.2/60.9 kB 292.6 kB/s eta 0:00:01\n",
      "     -------------------------------------- 60.9/60.9 kB 249.7 kB/s eta 0:00:00\n",
      "Downloading numpy-2.3.3-cp311-cp311-win_amd64.whl (13.1 MB)\n",
      "   ---------------------------------------- 0.0/13.1 MB ? eta -:--:--\n",
      "   ---------------------------------------- 0.1/13.1 MB 3.6 MB/s eta 0:00:04\n",
      "   - -------------------------------------- 0.5/13.1 MB 6.7 MB/s eta 0:00:02\n",
      "   --- ------------------------------------ 1.2/13.1 MB 9.4 MB/s eta 0:00:02\n",
      "   ----- ---------------------------------- 1.7/13.1 MB 9.6 MB/s eta 0:00:02\n",
      "   ----------- ---------------------------- 3.6/13.1 MB 16.5 MB/s eta 0:00:01\n",
      "   ---------------- ----------------------- 5.4/13.1 MB 19.2 MB/s eta 0:00:01\n",
      "   ---------------------- ----------------- 7.3/13.1 MB 22.3 MB/s eta 0:00:01\n",
      "   ----------------------- ---------------- 7.8/13.1 MB 22.7 MB/s eta 0:00:01\n",
      "   --------------------------- ------------ 9.1/13.1 MB 21.5 MB/s eta 0:00:01\n",
      "   --------------------------------- ------ 11.0/13.1 MB 27.3 MB/s eta 0:00:01\n",
      "   ---------------------------------------  13.1/13.1 MB 32.7 MB/s eta 0:00:01\n",
      "   ---------------------------------------  13.1/13.1 MB 32.7 MB/s eta 0:00:01\n",
      "   ---------------------------------------- 13.1/13.1 MB 25.2 MB/s eta 0:00:00\n",
      "Installing collected packages: numpy\n",
      "Successfully installed numpy-2.3.3\n"
     ]
    },
    {
     "name": "stderr",
     "output_type": "stream",
     "text": [
      "\n",
      "[notice] A new release of pip is available: 23.2.1 -> 25.2\n",
      "[notice] To update, run: python.exe -m pip install --upgrade pip\n"
     ]
    },
    {
     "name": "stdout",
     "output_type": "stream",
     "text": [
      "Collecting pandas\n",
      "  Obtaining dependency information for pandas from https://files.pythonhosted.org/packages/a7/e7/ae86261695b6c8a36d6a4c8d5f9b9ede8248510d689a2f379a18354b37d7/pandas-2.3.2-cp311-cp311-win_amd64.whl.metadata\n",
      "  Downloading pandas-2.3.2-cp311-cp311-win_amd64.whl.metadata (19 kB)\n",
      "Requirement already satisfied: numpy>=1.23.2 in c:\\users\\personal\\desktop\\python\\prueba\\lib\\site-packages (from pandas) (2.3.3)\n",
      "Requirement already satisfied: python-dateutil>=2.8.2 in c:\\users\\personal\\desktop\\python\\prueba\\lib\\site-packages (from pandas) (2.9.0.post0)\n",
      "Collecting pytz>=2020.1 (from pandas)\n",
      "  Obtaining dependency information for pytz>=2020.1 from https://files.pythonhosted.org/packages/81/c4/34e93fe5f5429d7570ec1fa436f1986fb1f00c3e0f43a589fe2bbcd22c3f/pytz-2025.2-py2.py3-none-any.whl.metadata\n",
      "  Downloading pytz-2025.2-py2.py3-none-any.whl.metadata (22 kB)\n",
      "Collecting tzdata>=2022.7 (from pandas)\n",
      "  Obtaining dependency information for tzdata>=2022.7 from https://files.pythonhosted.org/packages/5c/23/c7abc0ca0a1526a0774eca151daeb8de62ec457e77262b66b359c3c7679e/tzdata-2025.2-py2.py3-none-any.whl.metadata\n",
      "  Downloading tzdata-2025.2-py2.py3-none-any.whl.metadata (1.4 kB)\n",
      "Requirement already satisfied: six>=1.5 in c:\\users\\personal\\desktop\\python\\prueba\\lib\\site-packages (from python-dateutil>=2.8.2->pandas) (1.17.0)\n",
      "Downloading pandas-2.3.2-cp311-cp311-win_amd64.whl (11.3 MB)\n",
      "   ---------------------------------------- 0.0/11.3 MB ? eta -:--:--\n",
      "   ---------------------------------------- 0.0/11.3 MB 991.0 kB/s eta 0:00:12\n",
      "    --------------------------------------- 0.2/11.3 MB 2.8 MB/s eta 0:00:05\n",
      "   - -------------------------------------- 0.5/11.3 MB 4.0 MB/s eta 0:00:03\n",
      "   ---- ----------------------------------- 1.4/11.3 MB 8.1 MB/s eta 0:00:02\n",
      "   --------- ------------------------------ 2.8/11.3 MB 12.9 MB/s eta 0:00:01\n",
      "   ---------------- ----------------------- 4.6/11.3 MB 17.5 MB/s eta 0:00:01\n",
      "   ---------------------- ----------------- 6.3/11.3 MB 20.1 MB/s eta 0:00:01\n",
      "   -------------------------- ------------- 7.6/11.3 MB 21.2 MB/s eta 0:00:01\n",
      "   ------------------------------- -------- 8.8/11.3 MB 22.7 MB/s eta 0:00:01\n",
      "   ------------------------------------ --- 10.3/11.3 MB 25.1 MB/s eta 0:00:01\n",
      "   ---------------------------------------  11.3/11.3 MB 34.4 MB/s eta 0:00:01\n",
      "   ---------------------------------------- 11.3/11.3 MB 29.7 MB/s eta 0:00:00\n",
      "Downloading pytz-2025.2-py2.py3-none-any.whl (509 kB)\n",
      "   ---------------------------------------- 0.0/509.2 kB ? eta -:--:--\n",
      "   --------------------------------------- 509.2/509.2 kB 31.2 MB/s eta 0:00:00\n",
      "Downloading tzdata-2025.2-py2.py3-none-any.whl (347 kB)\n",
      "   ---------------------------------------- 0.0/347.8 kB ? eta -:--:--\n",
      "   --------------------------------------- 347.8/347.8 kB 22.5 MB/s eta 0:00:00\n",
      "Installing collected packages: pytz, tzdata, pandas\n",
      "Successfully installed pandas-2.3.2 pytz-2025.2 tzdata-2025.2\n"
     ]
    },
    {
     "name": "stderr",
     "output_type": "stream",
     "text": [
      "\n",
      "[notice] A new release of pip is available: 23.2.1 -> 25.2\n",
      "[notice] To update, run: python.exe -m pip install --upgrade pip\n"
     ]
    }
   ],
   "source": [
    "!pip install numpy\n",
    "!pip install pandas"
   ]
  },
  {
   "cell_type": "markdown",
   "id": "ce7c9f8f",
   "metadata": {},
   "source": [
    "Importamos las librerías para darles uso con la palabra import más el nombre de la librería, también podemos usar la palabra as para darle un alias al momento de llamar a la librería dentro del código o simplemente llamamos a la librería tal y como se llama "
   ]
  },
  {
   "cell_type": "code",
   "execution_count": null,
   "id": "680249f5",
   "metadata": {},
   "outputs": [
    {
     "name": "stdout",
     "output_type": "stream",
     "text": [
      "   A  B  C\n",
      "0  1  2  3\n",
      "1  4  5  6\n",
      "2  7  8  9\n"
     ]
    },
    {
     "data": {
      "text/html": [
       "<div>\n",
       "<style scoped>\n",
       "    .dataframe tbody tr th:only-of-type {\n",
       "        vertical-align: middle;\n",
       "    }\n",
       "\n",
       "    .dataframe tbody tr th {\n",
       "        vertical-align: top;\n",
       "    }\n",
       "\n",
       "    .dataframe thead th {\n",
       "        text-align: right;\n",
       "    }\n",
       "</style>\n",
       "<table border=\"1\" class=\"dataframe\">\n",
       "  <thead>\n",
       "    <tr style=\"text-align: right;\">\n",
       "      <th></th>\n",
       "      <th>A</th>\n",
       "      <th>B</th>\n",
       "      <th>C</th>\n",
       "    </tr>\n",
       "  </thead>\n",
       "  <tbody>\n",
       "    <tr>\n",
       "      <th>count</th>\n",
       "      <td>3.0</td>\n",
       "      <td>3.0</td>\n",
       "      <td>3.0</td>\n",
       "    </tr>\n",
       "    <tr>\n",
       "      <th>mean</th>\n",
       "      <td>4.0</td>\n",
       "      <td>5.0</td>\n",
       "      <td>6.0</td>\n",
       "    </tr>\n",
       "    <tr>\n",
       "      <th>std</th>\n",
       "      <td>3.0</td>\n",
       "      <td>3.0</td>\n",
       "      <td>3.0</td>\n",
       "    </tr>\n",
       "    <tr>\n",
       "      <th>min</th>\n",
       "      <td>1.0</td>\n",
       "      <td>2.0</td>\n",
       "      <td>3.0</td>\n",
       "    </tr>\n",
       "    <tr>\n",
       "      <th>25%</th>\n",
       "      <td>2.5</td>\n",
       "      <td>3.5</td>\n",
       "      <td>4.5</td>\n",
       "    </tr>\n",
       "    <tr>\n",
       "      <th>50%</th>\n",
       "      <td>4.0</td>\n",
       "      <td>5.0</td>\n",
       "      <td>6.0</td>\n",
       "    </tr>\n",
       "    <tr>\n",
       "      <th>75%</th>\n",
       "      <td>5.5</td>\n",
       "      <td>6.5</td>\n",
       "      <td>7.5</td>\n",
       "    </tr>\n",
       "    <tr>\n",
       "      <th>max</th>\n",
       "      <td>7.0</td>\n",
       "      <td>8.0</td>\n",
       "      <td>9.0</td>\n",
       "    </tr>\n",
       "  </tbody>\n",
       "</table>\n",
       "</div>"
      ],
      "text/plain": [
       "         A    B    C\n",
       "count  3.0  3.0  3.0\n",
       "mean   4.0  5.0  6.0\n",
       "std    3.0  3.0  3.0\n",
       "min    1.0  2.0  3.0\n",
       "25%    2.5  3.5  4.5\n",
       "50%    4.0  5.0  6.0\n",
       "75%    5.5  6.5  7.5\n",
       "max    7.0  8.0  9.0"
      ]
     },
     "execution_count": 7,
     "metadata": {},
     "output_type": "execute_result"
    }
   ],
   "source": [
    "import numpy as np;\n",
    "import pandas as pd;\n",
    "\n",
    "datos = np.array([[1, 2,3], [4, 5, 6], [7, 8, 9]]); #numpy.array permite crear matrices de listas que puedes servir para hacer matrices\n",
    "df = pd.DataFrame(datos, columns = [\"A\", \"B\", \"C\"]); #pandas.DataFrame permite crear matrices con filas y columnas \n",
    "print(df) #imprime de form sencilla\n",
    "df #imprime con el formato predeterminado de la librería de pandas\n",
    "df.describe() #imprime datos relacionados con la información que tienen las matrices\n"
   ]
  }
 ],
 "metadata": {
  "kernelspec": {
   "display_name": "Python 3",
   "language": "python",
   "name": "python3"
  },
  "language_info": {
   "codemirror_mode": {
    "name": "ipython",
    "version": 3
   },
   "file_extension": ".py",
   "mimetype": "text/x-python",
   "name": "python",
   "nbconvert_exporter": "python",
   "pygments_lexer": "ipython3",
   "version": "3.11.5"
  }
 },
 "nbformat": 4,
 "nbformat_minor": 5
}
