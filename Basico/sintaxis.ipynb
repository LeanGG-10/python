{
 "cells": [
  {
   "cell_type": "markdown",
   "id": "1810ea96",
   "metadata": {},
   "source": [
    "# Sintaxis python\n"
   ]
  },
  {
   "cell_type": "code",
   "execution_count": 12,
   "id": "281512ef",
   "metadata": {},
   "outputs": [
    {
     "data": {
      "text/plain": [
       "'\\ncomentario de \\nmultiples líneas \\n'"
      ]
     },
     "execution_count": 12,
     "metadata": {},
     "output_type": "execute_result"
    }
   ],
   "source": [
    "#comentario de una línea\n",
    "\n",
    "\"\"\"\n",
    "comentario de \n",
    "multiples líneas \n",
    "\"\"\"\n"
   ]
  },
  {
   "cell_type": "code",
   "execution_count": 13,
   "id": "478e4b03",
   "metadata": {},
   "outputs": [
    {
     "name": "stdout",
     "output_type": "stream",
     "text": [
      "entero: 10 float: 10.5 string: es una cadena de texto (se lo puede combinar con números), pueden ser con comillas simples o dobles boolean: True\n"
     ]
    }
   ],
   "source": [
    "#tipos de variables \n",
    "\n",
    "entero = 10; #números sin decimales (int o integer(java)) \n",
    "decimal = 10.5; #números con decimales (float)\n",
    "string = \"es una cadena de texto (se lo puede combinar con números), pueden ser con comillas simples o dobles\"; #string\n",
    "booleano = True; #boolean es para definir verdadero(1) o falso(0) la primera letra tiene que ser obligatoria mayúscula (no es como js)\n",
    "\n",
    "print(f'entero: {entero} float: {decimal} string: {string} boolean: {booleano}')"
   ]
  },
  {
   "cell_type": "markdown",
   "id": "d43d3539",
   "metadata": {},
   "source": [
    "en python las variables son de débil tipado, osea, las variables pueden ir cambiando su tipo o mutar la variable en el transcurso de la ejecución (una variable de tipo int puede ir cambiando a string), también no se define el tipo de variable desde el momento de su creación (como por ejemplo java que si se crea una variable int nunca puede convertirse en string)"
   ]
  },
  {
   "cell_type": "markdown",
   "id": "e69ab861",
   "metadata": {},
   "source": [
    "para cambiar el tipo de dato se puede usar su tipo + mas la variable que le queramos cambiar el tipo de dato entre paréntesis"
   ]
  },
  {
   "cell_type": "code",
   "execution_count": 14,
   "id": "5bf49237",
   "metadata": {},
   "outputs": [
    {
     "name": "stdout",
     "output_type": "stream",
     "text": [
      "<class 'float'>\n",
      "<class 'int'>\n"
     ]
    }
   ],
   "source": [
    "print(type(decimal))\n",
    "\n",
    "decimal = int(decimal)\n",
    "\n",
    "print(type(decimal))\n"
   ]
  },
  {
   "cell_type": "markdown",
   "id": "aaf933ac",
   "metadata": {},
   "source": [
    "la función type sirve para ver qué tipo de dato es una variable, las funciones que ya están predeterminadas en python se colorean de color amarillo (puede cambiar el color según la personalización visual de cada editor de código)"
   ]
  },
  {
   "cell_type": "markdown",
   "id": "1db4c751",
   "metadata": {},
   "source": [
    "## Operaciones aritméticas"
   ]
  },
  {
   "cell_type": "code",
   "execution_count": 15,
   "id": "bd93d8f8",
   "metadata": {},
   "outputs": [
    {
     "name": "stdout",
     "output_type": "stream",
     "text": [
      "suma: 47\n",
      "resta: 43\n",
      "multiplicación: 90\n",
      "división:22.5\n",
      "división entera:22\n",
      "residuos(módulo): 1\n",
      "elevar sobre un número: 2025\n"
     ]
    }
   ],
   "source": [
    "suma = 45+2\n",
    "print(f'suma: {suma}')\n",
    "resta=45-2\n",
    "print(f'resta: {resta}')\n",
    "multiplicacion=45*2\n",
    "print(f'multiplicación: {multiplicacion}')\n",
    "division=45/2\n",
    "print(f'división:{division}')\n",
    "divisionEntera=45//2 #da como resultado el resultado sin decimales\n",
    "print(f'división entera:{divisionEntera}')\n",
    "modulo=45%2 #da como resultado el residuo de la división\n",
    "print(f'residuos(módulo): {modulo}')\n",
    "potencia=45**2 #eleva el primer número sobre el segundo número\n",
    "print(f'elevar sobre un número: {potencia}')"
   ]
  },
  {
   "cell_type": "markdown",
   "id": "0abc649c",
   "metadata": {},
   "source": [
    "Las operaciones aritméticas también se pueden hacer entre variables "
   ]
  },
  {
   "cell_type": "markdown",
   "id": "577a9920",
   "metadata": {},
   "source": [
    "Las constantes se definen con todo el nombre de la constante en mayúsculas (las constantes nunca pueden cambiar ni su tipo de dato ni valor)"
   ]
  },
  {
   "cell_type": "markdown",
   "id": "db94951a",
   "metadata": {},
   "source": [
    "## Operaciones de comparación \n",
    "se utilizan para comparar dos variables y siempre van a devolver un valor booleano, ya sea verdadero(True, 1) o falso(Falso, 0) "
   ]
  },
  {
   "cell_type": "code",
   "execution_count": 17,
   "id": "8203bb84",
   "metadata": {},
   "outputs": [
    {
     "name": "stdout",
     "output_type": "stream",
     "text": [
      "True\n",
      "False\n",
      "True\n",
      "False\n",
      "True\n",
      "False\n",
      "True\n",
      "False\n",
      "True\n",
      "False\n",
      "True\n",
      "False\n"
     ]
    }
   ],
   "source": [
    "NUMERO1 = 6\n",
    "NUMERO2 = 5\n",
    "NUMERO3 = 5\n",
    "\n",
    "numero = NUMERO3 == NUMERO2 #define si dos variables son exactamente iguales\n",
    "print(numero)\n",
    "numero = NUMERO1==NUMERO3\n",
    "print(numero)\n",
    "\n",
    "numero = NUMERO1 != NUMERO2 #define si dos variables no son iguales\n",
    "print(numero)\n",
    "numero = NUMERO2!= NUMERO2\n",
    "print(numero)\n",
    "\n",
    "numero = NUMERO1 > NUMERO2 #define si el valor de una variable es mayor que el valor de otra variables\n",
    "print(numero)\n",
    "numero = NUMERO2 > NUMERO3 \n",
    "print(numero)\n",
    "\n",
    "numero = NUMERO3 < NUMERO1 #define si el valor de una variable es menor que el valor de otra variable\n",
    "print(numero)\n",
    "numero= NUMERO2 < NUMERO3\n",
    "print(numero)\n",
    "\n",
    "numero = NUMERO3 <= NUMERO1 #define si el valor de una variable es menor o igual que el valor de otra variable\n",
    "print(numero)\n",
    "numero = NUMERO1 <= NUMERO3\n",
    "print(numero)\n",
    "\n",
    "numero = NUMERO1>=NUMERO2 #define si el valor de una variable es mayor o igual que el valor de otra variable\n",
    "print(numero)\n",
    "numero = NUMERO2 >=NUMERO1\n",
    "print(numero)"
   ]
  },
  {
   "cell_type": "markdown",
   "id": "a2770403",
   "metadata": {},
   "source": [
    "- Si las variables(valores) que se comparan son del mismo tipo de dato, las operaciones de comparación compara el valor de las variables.\n",
    "- Si las variables(valores) que se comparan no son del mismo tipo de dato, las operaciones de comparación compara el tipo de dato que son las variables, en estos casos de que las variables en comparación no son del mismo tipo de dato el resultado es falso siempre."
   ]
  },
  {
   "cell_type": "code",
   "execution_count": 21,
   "id": "ae608e83",
   "metadata": {},
   "outputs": [
    {
     "name": "stdout",
     "output_type": "stream",
     "text": [
      "True\n",
      "False\n",
      "False\n"
     ]
    }
   ],
   "source": [
    "a = 5\n",
    "compara= a ==5\n",
    "print(compara)\n",
    "\n",
    "compara = a == '5'\n",
    "print(compara)\n",
    "\n",
    "compara = a == False\n",
    "print(compara)"
   ]
  },
  {
   "cell_type": "markdown",
   "id": "fae43c8e",
   "metadata": {},
   "source": [
    "## Operadores lógicos \n"
   ]
  },
  {
   "cell_type": "markdown",
   "id": "ab8aaf78",
   "metadata": {},
   "source": [
    "compara entre dos comparaciones "
   ]
  },
  {
   "cell_type": "code",
   "execution_count": 32,
   "id": "1f60656a",
   "metadata": {},
   "outputs": [
    {
     "name": "stdout",
     "output_type": "stream",
     "text": [
      "Operador AND\n",
      "True\n",
      "False\n",
      "False\n",
      "Operador OR\n",
      "True\n",
      "True\n",
      "False\n",
      "Operador NOT\n",
      "sin operador not: True\n",
      "con operador not: False\n",
      "sin operador not: False\n",
      "con operador not: True\n"
     ]
    }
   ],
   "source": [
    "print('Operador AND')\n",
    "y = (40 == 40) and (50 == 50) #El operador AND devuelve true(1) siempre y cuando todo sea verdadero, en caso de que uno sea verdadero y otro falso devuelve false(0). Tienen que ser obligatoriamente los dos verdaderos para que retorne true(1)\n",
    "print(y)\n",
    "y = (50 == 40) and (50 == 50) \n",
    "print(y)\n",
    "y = (50 ==20) and (50==40)\n",
    "print(y)\n",
    "\n",
    "print('Operador OR')\n",
    "o = (40 == 40) or (50 == 50) #El operador Or devuelve true(1) siempre y cuando haya aunque sea un verdadero sin importar si el otro es falso, en caso de que los dos sean falsos devuelve false(0). Tienen que ser obligatoriamente los dos falsos para que retorne false(0)\n",
    "print(o)\n",
    "o = (50 == 40) or (50 == 50) \n",
    "print(o)\n",
    "o = (50==40) or (50==30)\n",
    "print(o)\n",
    "\n",
    "print('Operador NOT')\n",
    "y = (50==50) and (50==50)\n",
    "print(f'sin operador not: {y}')\n",
    "negacion = not(y) #es la negación del valor booleano que tengamos por ejemplo si tenemos verdadero el operador not lo va a hacer falso y vicercersa, si tenemos falso el operador not lo va a hacer verdadero.\n",
    "print(f'con operador not: {negacion}')\n",
    "o= (50==40 )and(50==50)\n",
    "print(f'sin operador not: {o}')\n",
    "negacion = not(o)\n",
    "print(f'con operador not: {negacion}')"
   ]
  },
  {
   "cell_type": "markdown",
   "id": "2abcc686",
   "metadata": {},
   "source": [
    "## Operaciones de asignación\n",
    "\n",
    "Asigna valores a las variables, aplica todas las operaciones aritméticas para asignar nuevos valores a las variables nuevas o ya existentes.\n",
    "- Asignación: =\n",
    "- Suma y asigna: +=\n",
    "- Resta y asigna: -=\n",
    "- multiplica y asigna: *=\n",
    "- divide y asigna: /=\n",
    "- division entera y asigna: //=\n",
    "- módulo o residuo y asigna: %=\n",
    "- potencia y asigna: **=\n",
    "\n",
    "aplicados mayormente en contadores automáticos"
   ]
  },
  {
   "cell_type": "markdown",
   "id": "cda52ae5",
   "metadata": {},
   "source": [
    "## Condicionales y estructuras de control\n"
   ]
  },
  {
   "cell_type": "code",
   "execution_count": null,
   "id": "58ae6d30",
   "metadata": {},
   "outputs": [
    {
     "name": "stdout",
     "output_type": "stream",
     "text": [
      "condicion secundaria aplicada\n",
      "===========================================================================\n",
      "Iteación #1 \n",
      "Iteación #2 \n",
      "Iteación #3 \n",
      "Iteación #4 \n",
      "contador del rango: 1\n",
      "contador del rango: 3\n",
      "contador del rango: 5\n",
      "contador del rango: 7\n",
      "contador del rango: 9\n",
      "iteración #1\n",
      "iteración #2\n",
      "iteración #3\n",
      "iteración #4\n"
     ]
    }
   ],
   "source": [
    "#condicionales \n",
    "#sirve para tener control sobre lo que queremos que no se ejecute y lo que si queremos que se ejecute, \n",
    "#for es más para cuando se tiene un límite de iteraciones ya establecidas\n",
    "#while es más para las iteraciones necesarias siempre y cuando se cumpla la condición y cuando la condición ya no se cumpla se para el bucle\n",
    "\n",
    "variable = 2\n",
    "if (variable > 3): #es la condición principal nos sirve para tener control sobre el flujo de la ejecución para que según los resultados que obtengamos el flujo tome un camino u otro el if vendría siendo como el camino principal \n",
    "    print(\"condición principal aplicada \")\n",
    "elif (variable < 3): #tiene la misma función que el if la diferencia es que esta solo se toma encuenta si la condición del camino principal no se cumple y queremos tener caminos secundarios para tener más control sobre sobre procesos que sabemos que tendrán diferentes resultados y queramos tener un camino específico para cada una de ellas (pueden haber tantos elif como queramos pero no es recomendable por tener mucho código repetitivo y es poco escalable)\n",
    "    print(\"condicion secundaria aplicada\")\n",
    "else: #este es como el camino de descarte que se ejecuta solo si ninguna de las condiciones del if y elif fueron aplicadas por eso no lleva condición es útil cuando tenemos muchos procesos que funcionan igual y nos ahorramos tantos código al escribir el mismo flujo para todos esos procesos\n",
    "    print(\"ninguna de las condiciones que pusimos se cumple\")\n",
    "    \n",
    "\n",
    "print(\"===========================================================================\")\n",
    "#bucles \n",
    "#la primera iteración siempre tendrá el valor de 0 sin importar si i o la variable empiece con un valor diferente a 0\n",
    "\n",
    "lista = [1, 2, 3, 4]\n",
    "for i in lista: #sirve para recorrer un objeto o array y repetir un flujo de código por cada iteración, no necesariamente puede ser una lista sino que también podemos darle un rango de las veces que queramos ejecutarlo\n",
    "    print(f\"Iteación #{i} \")\n",
    "\n",
    "#argumentos de la función range del bucle for\n",
    "#range(inicio, fin, incremento)\n",
    "#range(fin) incremento por defecto es 1 e inicia con 0 por defecto\n",
    "#range (inicio, fin) incremento por defecto es 1\n",
    "\n",
    "#1 sería el valor con el que se inicia i, 10 sería el límite del rango de veces que se va a repetir el bucle, 2 sería el número de veces que se va sumando i\n",
    "for i in range(1 ,10,2): #in range puede tener solo un límite de veces para ejecutarse o también puede tener un límite inferior y superior para reducir las veces que se repite de ser neceario y tener un control sobre lo que queramos mostrar, y también puee tener un tercer número para determinar el número de veces que se suma i o la variable para la iteración\n",
    "    print(f\"contador del rango: {i}\")\n",
    "\n",
    "\n",
    "contador = 1\n",
    "while contador < 5: #sirve para repetir un flujo de código mientras se cumpla una condición, si esta condición no se llega a cumplir se detiene el bucle (hay que tener cuidado con hacer bucles infinitos, por eso es necesario poner contadores)\n",
    "    print(f\"iteración #{contador}\")\n",
    "    contador+=1 #este contador lo podemos ir sumando como queramos usando las operaciones de asignación"
   ]
  },
  {
   "cell_type": "markdown",
   "id": "e92bcdc2",
   "metadata": {},
   "source": [
    "## Estructura de datos\n",
    "permite organizar y manipular eficientemente la información\n"
   ]
  },
  {
   "cell_type": "markdown",
   "id": "2ce3568f",
   "metadata": {},
   "source": [
    "### Listas\n"
   ]
  },
  {
   "cell_type": "code",
   "execution_count": 6,
   "id": "22726706",
   "metadata": {},
   "outputs": [
    {
     "name": "stdout",
     "output_type": "stream",
     "text": [
      "1\n",
      "3\n",
      "hola\n",
      "[1, 2, 3, 4, 5, True, 'hola']\n",
      "7\n",
      "[1, 2, 'nuevo elemento por orden', 3, 44, 5, True, 'hola', 'nuevo elemento']\n",
      "===================\n",
      "['sda', 'dad', 2, 3, 'error']\n",
      "['sda', 'dad', 2, 3]\n",
      "['sda', 2, 3]\n"
     ]
    }
   ],
   "source": [
    "#listas\n",
    "\n",
    "lista1 = [1,2,3,4,5,True, \"hola\"] #las listas almacenan información y pueden ser mutables(cambiar el tipo de dato de lo que almacena)\n",
    "\n",
    "#acceder a los elementos de la lista\n",
    "\n",
    "print(lista1[0]) #por índice (toda estructura de datos el primer valor empieza desde cero como primer índice)\n",
    "print(lista1[2])\n",
    "print(lista1[-1]) #si ponemos números negativos va a tomar los valores desde el final de la lista hasta el principio de forma inversa\n",
    "print(lista1)\n",
    "print(len(lista1))  #el método len imprime el tamaño de la lista (los valores en total que almacena la lista)\n",
    "\n",
    "#modificar elementos de una lista\n",
    "\n",
    "lista1[3] = 44 #para cambiar un índice específico de nuestra lista simplemente se hace un re-asignación del índice que queremos cambiar por el nuevo valor \n",
    "\n",
    "#añadir elementos a una lista\n",
    "\n",
    "lista1.append(\"nuevo elemento\") #para añadir un nuevo elemento a la lista se utiliza el método append y entre parentesis el nuevo elemento que queremos añadir (el método append siempre añade al final de la lista)\n",
    "\n",
    "lista1.insert(2, \"nuevo elemento por orden\") #si queremos añadir un nuevo elemento en un índice específico para seguir un orden dentro de la lista se utiliza el método insert y entre parentesis el índice en que queremos que se agregue nuestro elemento seguido de la coma y el nuevo elemento que queramos añadir\n",
    "\n",
    "print(lista1)\n",
    "\n",
    "print(\"===================\")\n",
    "\n",
    "lista2 = [\"sda\",\"dad\", 2,3,\"error\",\"ultimo elemento\"]\n",
    "\n",
    "#eliminar elementos de una lista\n",
    "\n",
    "lista2.pop() #elimina el último elemento añadido a la lista\n",
    "print(lista2)\n",
    "\n",
    "lista2.pop(4) #elimina el elemento específico que nosotros especificamos poniendo el índice donde se posicion el elemento que queremos eliminar\n",
    "print(lista2)\n",
    "\n",
    "lista2.remove(\"dad\") #elimina el elemento que nosotros ya sepamos su contenido dentro de la lista (hay que tener cuidado con True y 1 ya que al lenguaje python 1 y True equivalen a lo mismo entonoces si tenemos un elemento booleano True y un elemento 1 dentro de la misma lista y usamos el remove(True) o remove(1) eliminará el primer elemento de los que encuentre, ya sea True o 1, lo mismo con False y 0)\n",
    "print(lista2)"
   ]
  },
  {
   "cell_type": "markdown",
   "id": "9c8f5e63",
   "metadata": {},
   "source": [
    "las listas se pueden guardar dentro de variables simplemente asignandolas a una variable, también se pueden crear listas vacías."
   ]
  },
  {
   "cell_type": "markdown",
   "id": "42905308",
   "metadata": {},
   "source": [
    "### Tuplas"
   ]
  },
  {
   "cell_type": "code",
   "execution_count": 2,
   "id": "333601b1",
   "metadata": {},
   "outputs": [
    {
     "name": "stdout",
     "output_type": "stream",
     "text": [
      "primer elemento (a)\n",
      "segundo elemento (b)\n",
      "tercer elemento (c)\n",
      "(20, 30, 40, 'primer elemento (a)', 'segundo elemento (b)', 'tercer elemento (c)')\n",
      "('primer elemento (a)', 'segundo elemento (b)', 'tercer elemento (c)')\n",
      "('primer elemento (a)', 'segundo elemento (b)')\n"
     ]
    }
   ],
   "source": [
    "#tuplas\n",
    "#son lo mismo que las listas, la diferencia es que son inmutables (no pueden cambiar ni eliminar sus elementos ni cambiar su tipo de dato) y solo permite añadir elementos dentro de esta \n",
    "\n",
    "tupla = (\"primer elemento (a)\", \"segundo elemento (b)\", \"tercer elemento (c)\") #mientras que las listas se crean con corchetes \"[]\", las tuplas se crean con paréntesis \"()\", todos los métodos de manipulación de listas, a excepción de modificar elementos, sirven igual en las tuplas\n",
    "\n",
    "#desempaquetado de tuplas\n",
    "\n",
    "a, b, c = tupla #cada elemento de la tupla se va guardando en cada variable en orden de izquiera a derecha (si no hay suficientes variables para desempaquetar las tuplas el lenguaje va a dar un error)\n",
    "\n",
    "print(a)\n",
    "print(b)\n",
    "print(c)\n",
    "\n",
    "#concatenar tuplas\n",
    "nuevaTupla=(20,30,40)\n",
    "\n",
    "concatenarTuplas= nuevaTupla + tupla #podemos sumar el contenido de dos tuplas en una nueva tupla\n",
    "print(concatenarTuplas)\n",
    "\n",
    "#método para eliminar un elemento de la tupla\n",
    "print(tupla)\n",
    "eliminarElementoTupla = list(tupla) #convertimos la tupla a lista con el método list()\n",
    "eliminarElementoTupla.pop(2) #eliminamos elemento que queramos \n",
    "tuplaModificada=tuple(eliminarElementoTupla) #lo volvemos a convertir a tupla con el método tuple()\n",
    "print(tuplaModificada)"
   ]
  },
  {
   "cell_type": "markdown",
   "id": "e4861295",
   "metadata": {},
   "source": [
    "las tuplas se pueden guardar dentro de variables simplemente asignandolas a una variable, también se pueden crear listas vacías.\n",
    "Las estructuras de datos pueden ser almacenadas dentro de otras estructuras de datos (listas que guardan tuplas y viceversa)"
   ]
  },
  {
   "cell_type": "markdown",
   "id": "1ca8c8ca",
   "metadata": {},
   "source": [
    "### Conjuntos\n"
   ]
  },
  {
   "cell_type": "code",
   "execution_count": null,
   "id": "ae4d8fb1",
   "metadata": {},
   "outputs": [
    {
     "name": "stdout",
     "output_type": "stream",
     "text": [
      "\"Unión: \" {1, 2, 3, 4, 5, 7, 9, 10}\n",
      "Intersección:  {1, 3, 4}\n",
      "Diferencia: {2}\n",
      "\"Diferencia simétrica: {2, 5, 7, 9, 10}\n"
     ]
    }
   ],
   "source": [
    "#Conjuntos \n",
    "#Son como las listas y las tuplas y sirven para hacer operaciones matemáticas sobre conjuntos de datos que tengamos \n",
    "\n",
    "#Creación \n",
    "listaaa=[1,2,3,4]\n",
    "creacionConjunto = set([1, 2, 3, 4]) #se utiliza esa forma para diferenciarlas de las listas, tuplas y diccionarios, aunque también se puede crear de la segunda manera.\n",
    "\n",
    "segundaManera = {1, 3, 4, 5, 7, 9, 10}\n",
    "\n",
    "#operaciones\n",
    "#todas las operaciones se tienen que guardar en una nueva variable\n",
    "\n",
    "#unión de conjuntos \n",
    "union = creacionConjunto | segundaManera\n",
    "print(f'\"Unión: \" {union}')\n",
    "\n",
    "#intersección de conjuntos \n",
    "interseccion = creacionConjunto & segundaManera\n",
    "print(\"Intersección: \", interseccion)\n",
    "\n",
    "#diferencia de conjuntos \n",
    "diferencia = creacionConjunto - segundaManera\n",
    "print(f'Diferencia: {diferencia}')\n",
    "\n",
    "#diferencia simétrica de conjuntos \n",
    "diferenciaSimetrica = creacionConjunto ^ segundaManera\n",
    "print(f'\"Diferencia simétrica: {diferenciaSimetrica}')"
   ]
  },
  {
   "cell_type": "markdown",
   "id": "23713bfb",
   "metadata": {},
   "source": [
    "Los conjuntos sirven para cuando tengamos otras estructuras de datos (listas, tuplas) con valores repetidos y solo queramos los valores de la lista sin que se repitan "
   ]
  },
  {
   "cell_type": "markdown",
   "id": "076229ff",
   "metadata": {},
   "source": [
    "### Diccionarios\n"
   ]
  },
  {
   "cell_type": "markdown",
   "id": "087c5fcd",
   "metadata": {},
   "source": [
    "Los diccionarios funcionan igual que archivos json ya que almacena información con clave y valor. Se pueden guardar dentro listas y tuplas"
   ]
  },
  {
   "cell_type": "code",
   "execution_count": null,
   "id": "f8b3d352",
   "metadata": {},
   "outputs": [
    {
     "name": "stdout",
     "output_type": "stream",
     "text": [
      "{'nombre': 'Juan', 'edad': 20}\n",
      "nombre:  20\n",
      "edad:  Juan\n",
      "{'nombre': 'Leo', 'edad': 20}\n",
      "dict_keys(['nombre', 'edad'])\n",
      "dict_values(['Leo', 20])\n"
     ]
    }
   ],
   "source": [
    "#Operaciones con diccionarios\n",
    "\n",
    "diccionario = {\"nombre\": \"Juan\", \"edad\": 20}\n",
    "print(diccionario)\n",
    "print(\"nombre: \", diccionario[\"edad\"])\n",
    "print(\"edad: \", diccionario[\"nombre\"])\n",
    "\n",
    "#modificar \n",
    "diccionario[\"nombre\"] = \"Leo\"\n",
    "print(diccionario)\n",
    "\n",
    "\n",
    "print(diccionario.keys()) #Obtener claves\n",
    "print(diccionario.values()) #Obtener valores\n"
   ]
  }
 ],
 "metadata": {
  "kernelspec": {
   "display_name": "prueba",
   "language": "python",
   "name": "python3"
  },
  "language_info": {
   "codemirror_mode": {
    "name": "ipython",
    "version": 3
   },
   "file_extension": ".py",
   "mimetype": "text/x-python",
   "name": "python",
   "nbconvert_exporter": "python",
   "pygments_lexer": "ipython3",
   "version": "3.11.5"
  }
 },
 "nbformat": 4,
 "nbformat_minor": 5
}
